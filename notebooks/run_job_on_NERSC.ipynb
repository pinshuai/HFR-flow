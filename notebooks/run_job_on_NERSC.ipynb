{
 "cells": [
  {
   "cell_type": "markdown",
   "metadata": {},
   "source": [
    "# Submit job on Nersc"
   ]
  },
  {
   "cell_type": "markdown",
   "metadata": {},
   "source": [
    "This notebook is used for submitting jobs on NERSC.\n",
    "\n",
    "[**Common slurm commands**](https://github.com/NERSC/slurm-magic), such as **_%sbatch, %squeue, %scancel, %salloc, %srun, %scontrol_**\n",
    "\n",
    "Any command that works at the command-line can be used in Jupyter Notebook by prefixing it with the **!** character. For example, the **ls, pwd, and echo** commands can be run as follows: **!ls, !pwd, !echo** ([link](https://jakevdp.github.io/PythonDataScienceHandbook/01.05-ipython-and-shell-commands.html))\n",
    "\n",
    "Besides **%cd**, other available shell-like magic functions are **%cat, %cp, %env, %ls, %man, %mkdir, %more, %mv, %pwd, %rm, and %rmdir**, any of which can be used without the % sign if `automagic` is on."
   ]
  },
  {
   "cell_type": "code",
   "execution_count": 1,
   "metadata": {
    "ExecuteTime": {
     "end_time": "2018-07-12T20:59:20.425706Z",
     "start_time": "2018-07-12T20:59:20.416768Z"
    }
   },
   "outputs": [],
   "source": [
    "%matplotlib inline\n",
    "import subprocess\n",
    "import pandas as pd\n",
    "import matplotlib\n",
    "import matplotlib.pyplot as plt"
   ]
  },
  {
   "cell_type": "code",
   "execution_count": 1,
   "metadata": {},
   "outputs": [],
   "source": [
    "%load_ext slurm_magic # must load this first"
   ]
  },
  {
   "cell_type": "markdown",
   "metadata": {},
   "source": [
    "## Sample batch script"
   ]
  },
  {
   "cell_type": "markdown",
   "metadata": {},
   "source": [
    "**on Edison**"
   ]
  },
  {
   "cell_type": "markdown",
   "metadata": {},
   "source": [
    "```bash\n",
    "#!/bin/bash -l\n",
    "\n",
    "#SBATCH -A m1800\n",
    "#SBATCH -N 171\n",
    "#SBATCH -t 48:00:00\n",
    "#SBATCH -L SCRATCH  \n",
    "#SBATCH -J 100x2_1w\n",
    "#SBATCH --qos regular\n",
    "#SBATCH --mail-type ALL\n",
    "#SBATCH --mail-user pin.shuai@pnnl.gov\n",
    "\n",
    "cd $SLURM_SUBMIT_DIR\n",
    "\n",
    "srun -n 4096 /global/project/projectdirs/pflotran/pflotran-edison/src/pflotran/pflotran -pflotranin pflotran_100x100x2_1w_bc.in\n",
    "```"
   ]
  },
  {
   "cell_type": "markdown",
   "metadata": {},
   "source": [
    "**on Cori**\n",
    "\n"
   ]
  },
  {
   "cell_type": "markdown",
   "metadata": {},
   "source": [
    "```bash\n",
    "#!/bin/bash -l\n",
    "\n",
    "#SBATCH -A m1800\n",
    "#SBATCH -N 171\n",
    "#SBATCH -t 48:00:00\n",
    "#SBATCH -L SCRATCH  \n",
    "#SBATCH -J 100x2_1w\n",
    "#SBATCH --qos regular\n",
    "#SBATCH --mail-type ALL\n",
    "#SBATCH --mail-user pin.shuai@pnnl.gov\n",
    "#SBATCH -C haswell\n",
    "\n",
    "cd $SLURM_SUBMIT_DIR\n",
    "\n",
    "srun -n 4096 /global/project/projectdirs/pflotran/pflotran-cori/src/pflotran/pflotran -pflotranin pflotran_100x100x2_1w_bc.in\n",
    "```"
   ]
  },
  {
   "cell_type": "markdown",
   "metadata": {},
   "source": [
    "## execute batch job"
   ]
  },
  {
   "cell_type": "code",
   "execution_count": 2,
   "metadata": {
    "scrolled": true
   },
   "outputs": [],
   "source": [
    "import os\n",
    "os.chdir(\"/global/cscratch1/sd/pshuai/TH_cp_high\")"
   ]
  },
  {
   "cell_type": "code",
   "execution_count": 8,
   "metadata": {},
   "outputs": [
    {
     "data": {
      "text/plain": [
       "'Submitted batch job 21376851\\n'"
      ]
     },
     "execution_count": 8,
     "metadata": {},
     "output_type": "execute_result"
    }
   ],
   "source": [
    "%%sbatch\n",
    "#!/bin/bash -l\n",
    "\n",
    "#SBATCH -A m1800\n",
    "#SBATCH -N 1\n",
    "#SBATCH -t 00:30:00\n",
    "#SBATCH -L SCRATCH  \n",
    "#SBATCH -J TH-cp-high-test\n",
    "#SBATCH --qos debug\n",
    "#SBATCH --mail-type ALL\n",
    "#SBATCH --mail-user pin.shuai@pnnl.gov\n",
    "#SBATCH -C haswell\n",
    "\n",
    "cd $SLURM_SUBMIT_DIR\n",
    "\n",
    "srun -n 2 /global/project/projectdirs/pflotran/pflotran-cori/src/pflotran/pflotran -pflotranin TH_cp_high.in"
   ]
  },
  {
   "cell_type": "code",
   "execution_count": 10,
   "metadata": {},
   "outputs": [
    {
     "data": {
      "text/html": [
       "<div>\n",
       "<style scoped>\n",
       "    .dataframe tbody tr th:only-of-type {\n",
       "        vertical-align: middle;\n",
       "    }\n",
       "\n",
       "    .dataframe tbody tr th {\n",
       "        vertical-align: top;\n",
       "    }\n",
       "\n",
       "    .dataframe thead th {\n",
       "        text-align: right;\n",
       "    }\n",
       "</style>\n",
       "<table border=\"1\" class=\"dataframe\">\n",
       "  <thead>\n",
       "    <tr style=\"text-align: right;\">\n",
       "      <th></th>\n",
       "      <th>JOBID</th>\n",
       "      <th>PARTITION</th>\n",
       "      <th>NAME</th>\n",
       "      <th>USER</th>\n",
       "      <th>ST</th>\n",
       "      <th>TIME</th>\n",
       "      <th>NODES</th>\n",
       "      <th>NODELIST(REASON)</th>\n",
       "    </tr>\n",
       "  </thead>\n",
       "  <tbody>\n",
       "    <tr>\n",
       "      <th>0</th>\n",
       "      <td>21250229</td>\n",
       "      <td>regular</td>\n",
       "      <td>TH-cont</td>\n",
       "      <td>pshuai</td>\n",
       "      <td>PD</td>\n",
       "      <td>0:00</td>\n",
       "      <td>128</td>\n",
       "      <td>(Priority)</td>\n",
       "    </tr>\n",
       "    <tr>\n",
       "      <th>1</th>\n",
       "      <td>21250633</td>\n",
       "      <td>regular</td>\n",
       "      <td>TH-smoot</td>\n",
       "      <td>pshuai</td>\n",
       "      <td>PD</td>\n",
       "      <td>0:00</td>\n",
       "      <td>128</td>\n",
       "      <td>(Priority)</td>\n",
       "    </tr>\n",
       "    <tr>\n",
       "      <th>2</th>\n",
       "      <td>21217356</td>\n",
       "      <td>regular</td>\n",
       "      <td>TH-cp-hi</td>\n",
       "      <td>pshuai</td>\n",
       "      <td>PD</td>\n",
       "      <td>0:00</td>\n",
       "      <td>128</td>\n",
       "      <td>(JobHeldUser)</td>\n",
       "    </tr>\n",
       "    <tr>\n",
       "      <th>3</th>\n",
       "      <td>21217399</td>\n",
       "      <td>regular</td>\n",
       "      <td>TH-cp-lo</td>\n",
       "      <td>pshuai</td>\n",
       "      <td>PD</td>\n",
       "      <td>0:00</td>\n",
       "      <td>128</td>\n",
       "      <td>(JobHeldUser)</td>\n",
       "    </tr>\n",
       "  </tbody>\n",
       "</table>\n",
       "</div>"
      ],
      "text/plain": [
       "      JOBID PARTITION      NAME    USER  ST  TIME  NODES NODELIST(REASON)\n",
       "0  21250229   regular   TH-cont  pshuai  PD  0:00    128       (Priority)\n",
       "1  21250633   regular  TH-smoot  pshuai  PD  0:00    128       (Priority)\n",
       "2  21217356   regular  TH-cp-hi  pshuai  PD  0:00    128    (JobHeldUser)\n",
       "3  21217399   regular  TH-cp-lo  pshuai  PD  0:00    128    (JobHeldUser)"
      ]
     },
     "execution_count": 10,
     "metadata": {},
     "output_type": "execute_result"
    }
   ],
   "source": [
    "%squeue -u pshuai"
   ]
  },
  {
   "cell_type": "code",
   "execution_count": 18,
   "metadata": {},
   "outputs": [
    {
     "data": {
      "text/plain": [
       "''"
      ]
     },
     "execution_count": 18,
     "metadata": {},
     "output_type": "execute_result"
    }
   ],
   "source": [
    "%scancel 13162214"
   ]
  },
  {
   "cell_type": "markdown",
   "metadata": {},
   "source": [
    "## execute interactive job"
   ]
  },
  {
   "cell_type": "code",
   "execution_count": 16,
   "metadata": {},
   "outputs": [
    {
     "data": {
      "text/plain": [
       "('',\n",
       " 'Launched in background. Redirecting stdin to /dev/null\\nsalloc: Pending job allocation 12123294\\nsalloc: job 12123294 queued and waiting for resources\\nsalloc: job 12123294 has been allocated resources\\nsalloc: Granted job allocation 12123294\\nsrun: error: ioctl(TIOCGWINSZ): Inappropriate ioctl for device\\nsrun: error: Not using a pseudo-terminal, disregarding --pty option\\nsalloc: Relinquishing job allocation 12123294\\n')"
      ]
     },
     "execution_count": 16,
     "metadata": {},
     "output_type": "execute_result"
    }
   ],
   "source": [
    "%salloc -N 1 -q debug -C haswell -t 00:30:00 -L SCRATCH"
   ]
  },
  {
   "cell_type": "code",
   "execution_count": 18,
   "metadata": {},
   "outputs": [
    {
     "data": {
      "text/plain": [
       "('',\n",
       " 'Launched in background. Redirecting stdin to /dev/null\\nsrun: error: No hardware architecture specified (-C)!\\nsrun: error: Unable to allocate resources: Unspecified error\\n')"
      ]
     },
     "execution_count": 18,
     "metadata": {},
     "output_type": "execute_result"
    }
   ],
   "source": [
    "%srun -n 32 ../pflotran-cori-flux -pflotranin pflotran.in"
   ]
  },
  {
   "cell_type": "code",
   "execution_count": 19,
   "metadata": {},
   "outputs": [
    {
     "data": {
      "text/html": [
       "<div>\n",
       "<style scoped>\n",
       "    .dataframe tbody tr th:only-of-type {\n",
       "        vertical-align: middle;\n",
       "    }\n",
       "\n",
       "    .dataframe tbody tr th {\n",
       "        vertical-align: top;\n",
       "    }\n",
       "\n",
       "    .dataframe thead th {\n",
       "        text-align: right;\n",
       "    }\n",
       "</style>\n",
       "<table border=\"1\" class=\"dataframe\">\n",
       "  <thead>\n",
       "    <tr style=\"text-align: right;\">\n",
       "      <th></th>\n",
       "      <th>JOBID</th>\n",
       "      <th>PARTITION</th>\n",
       "      <th>NAME</th>\n",
       "      <th>USER</th>\n",
       "      <th>ST</th>\n",
       "      <th>TIME</th>\n",
       "      <th>NODES</th>\n",
       "      <th>NODELIST(REASON)</th>\n",
       "    </tr>\n",
       "  </thead>\n",
       "  <tbody>\n",
       "  </tbody>\n",
       "</table>\n",
       "</div>"
      ],
      "text/plain": [
       "Empty DataFrame\n",
       "Columns: [JOBID, PARTITION, NAME, USER, ST, TIME, NODES, NODELIST(REASON)]\n",
       "Index: []"
      ]
     },
     "execution_count": 19,
     "metadata": {},
     "output_type": "execute_result"
    }
   ],
   "source": [
    "%squeue -u pshuai"
   ]
  },
  {
   "cell_type": "code",
   "execution_count": 27,
   "metadata": {},
   "outputs": [
    {
     "name": "stdout",
     "output_type": "stream",
     "text": [
      "hello world! \n"
     ]
    }
   ],
   "source": [
    "!sh /global/cscratch1/sd/pshuai/test/test.sh"
   ]
  },
  {
   "cell_type": "code",
   "execution_count": 30,
   "metadata": {},
   "outputs": [
    {
     "name": "stdout",
     "output_type": "stream",
     "text": [
      "#!/bin/bash -l\n",
      "\n",
      " printf \"hello world! \\n\"\n",
      "\n",
      "\n"
     ]
    }
   ],
   "source": [
    "!cat /global/cscratch1/sd/pshuai/test/test.sh"
   ]
  },
  {
   "cell_type": "markdown",
   "metadata": {},
   "source": [
    "# scaling test"
   ]
  },
  {
   "cell_type": "markdown",
   "metadata": {},
   "source": [
    "Scaling test is run as follows:\n",
    "* increase the # of cores while specifying `MAX_STEPS = 50` in PFLOTRAN input deck. \n",
    "* run interactive job using sample code below\n",
    "* plot `FLOW TS BE SNES time` and `TRANSPORT TS BE SNES time` over the # of cores"
   ]
  },
  {
   "cell_type": "markdown",
   "metadata": {},
   "source": [
    "```bash\n",
    "switch ( \"$NERSC_HOST\" )\n",
    "# used 'srun -n # ./a.out'\n",
    "case cori:\n",
    "  alias q1    'salloc -N 1 -q debug -C haswell -t 00:30:00 -L SCRATCH'\n",
    "                srun -n 1 ../pflotran-cori -pflotranin pflotran_100x100x05_6h_bc.in\n",
    "  alias q2    'salloc -N 1 -q debug -C haswell -t 00:30:00 -L SCRATCH'\n",
    "  alias q4    'salloc -N 1 -q debug -C haswell -t 00:30:00 -L SCRATCH'\n",
    "  alias q8    'salloc -N 1 -q debug -C haswell -t 00:30:00 -L SCRATCH'\n",
    "  alias q16    'salloc -N 1 -q debug -C haswell -t 00:30:00 -L SCRATCH'\n",
    "  alias q32    'salloc -N 1 -q debug -C haswell -t 00:30:00 -L SCRATCH'\n",
    "                srun -n 32 ../pflotran-cori -pflotranin pflotran_100x100x05_6h_bc.in\n",
    "  alias q64    'salloc -N 2 -q debug -C haswell -t 00:30:00 -L SCRATCH'\n",
    "                srun -n 64 ../pflotran-cori -pflotranin pflotran_100x100x05_6h_bc.in\n",
    "  alias q128    'salloc -N 4 -q debug -C haswell -t 00:30:00 -L SCRATCH'\n",
    "  alias q256    'salloc -N 8 -q debug -C haswell -t 00:30:00 -L SCRATCH'\n",
    "  alias q512    'salloc -N 16 -q debug -C haswell -t 00:30:00 -L SCRATCH'\n",
    "  alias q1024    'salloc -N 32 -q debug -C haswell -t 00:30:00 -L SCRATCH'\n",
    "  alias q2048    'salloc -N 64 -q debug -C haswell -t 00:30:00 -L SCRATCH'\n",
    "  breaksw\n",
    "    \n",
    "case edison:\n",
    "  alias q1    'salloc -N 1 -q debug -t 00:30:00 -L SCRATCH'\n",
    "                srun -n 1 ../pflotran-edison -pflotranin pflotran_100x100x2_6h_bc.in\n",
    "  alias q4    'salloc -N 1 -q debug -t 00:30:00 -L SCRATCH'\n",
    "                srun -n 4 ../pflotran-edison -pflotranin pflotran_200x200x2_6h_bc_new_iniH.in\n",
    "  alias q8    'salloc -N 1 -q debug -t 00:30:00 -L SCRATCH'\n",
    "                srun -n 8 ../pflotran-edison -pflotranin pflotran_1000x1000x5_6h_bc.in\n",
    "  alias q16   'salloc -N 1 -q debug -t 00:30:00 -L SCRATCH'\n",
    "                srun -n 16 ../pflotran-edison -pflotranin pflotran_100x100x05_6h_bc.in\n",
    "  alias q32   'salloc -N 2 -q debug -t 00:30:00 -L SCRATCH'\n",
    "                srun -n 32 ../pflotran-edison -pflotranin pflotran_1000x1000x5_6h_bc.in\n",
    "  alias q64   'salloc -N 3 -q debug -t 00:30:00 -L SCRATCH'\n",
    "                srun -n 64 ../pflotran-edison -pflotranin pflotran_1000x1000x5_6h_bc.in\n",
    "  alias q128  'salloc -N 6 -q debug -t 00:30:00 -L SCRATCH'\n",
    "                srun -n 128 ../pflotran-edison -pflotranin pflotran_200x200x2_6h_bc_new_iniH.in\n",
    "  alias q256  'salloc -N 11 -q debug -t 00:30:00 -L SCRATCH'\n",
    "                srun -n 256 ../pflotran-edison -pflotranin pflotran_1000x1000x5_6h_bc.in\n",
    "  alias q512  'salloc -N 22 -q debug -t 00:30:00 -L SCRATCH'\n",
    "                srun -n 512 ../pflotran-edison -pflotranin pflotran_1000x1000x5_6h_bc.in\n",
    "  alias q1024  'salloc -N 44 -q debug -t 00:30:00 -L SCRATCH'\n",
    "                srun -n 1024 ../pflotran-edison -pflotranin pflotran_1000x1000x5_6h_bc.in\n",
    "  alias q2048 'salloc -N 86 -q debug -t 00:30:00 -L SCRATCH'\n",
    "                srun -n 2048 ../pflotran-edison -pflotranin pflotran_1000x1000x5_6h_bc.in\n",
    "  alias q4096 'salloc -N 171 -q debug -t 00:30:00 -L SCRATCH'\n",
    "  alias q8192 'salloc -N 342 -q debug -t 00:30:00 -L SCRATCH'\n",
    "  breaksw\n",
    "endsw\n",
    "```"
   ]
  },
  {
   "cell_type": "markdown",
   "metadata": {},
   "source": [
    "## scaling test for HFR_model_1000x1000x5_6h_bc"
   ]
  },
  {
   "cell_type": "markdown",
   "metadata": {},
   "source": [
    "**Scaling test results for model resolution of 1000x1000x5 m with a total of 144,000 grids and `Max step = 500`. **\n",
    "\n",
    "|# of cores|Flow solution time (sec)|Transport solution time (sec)|Wall clock time (sec)|\n",
    "|----------|------------------|-----------------------|---------------|\n",
    "|4|556|98.9|802|\n",
    "|8|720.3|67.9|900.3|\n",
    "|16|411.3|38.5|556.4|\n",
    "|32|223.1|17.3|324.7|\n",
    "|64|165.9|10.4|257.4|\n",
    "|128|133.9|5.1|215.1|\n",
    "|**256**|**90.6**|**2.4**|**168.9**|\n",
    "|512|136.5|1.5|214.3|\n",
    "|1024|112.3|1.6|200.4|\n",
    "|2048|408.1|2.4|502|"
   ]
  },
  {
   "cell_type": "markdown",
   "metadata": {},
   "source": [
    "plot simulation time vs. # of cores"
   ]
  },
  {
   "cell_type": "code",
   "execution_count": 23,
   "metadata": {
    "ExecuteTime": {
     "end_time": "2018-07-13T23:34:21.861217Z",
     "start_time": "2018-07-13T23:34:21.566557Z"
    }
   },
   "outputs": [
    {
     "data": {
      "text/plain": [
       "<matplotlib.text.Text at 0x11d985438>"
      ]
     },
     "execution_count": 23,
     "metadata": {},
     "output_type": "execute_result"
    },
    {
     "data": {
      "image/png": "[encoded data removed]",
      "text/plain": [
       "<matplotlib.figure.Figure at 0x11d807128>"
      ]
     },
     "metadata": {},
     "output_type": "display_data"
    }
   ],
   "source": [
    "d = {'cores' : [4, 8, 16, 32, 64, 128, 256, 512, 1024, 2048],\n",
    "    'flow_time': [556, 720.3, 411.3, 223.1, 165.9, 133.9, 90.6, 136.5, 112.3, 408.1],\n",
    "    'trans_time': [98.9, 67.9, 38.5, 17.3, 10.4, 5.1, 2.4, 1.5, 1.6, 2.4],\n",
    "    'wall_time' : [802, 900.3, 556.4, 324.7, 257.4, 215.1, 168.9, 214.3, 200.4, 502]}\n",
    "df = pd.DataFrame(data= d)\n",
    "\n",
    "matplotlib.style.use('ggplot')\n",
    "\n",
    "fig, ax = plt.subplots(1, 1)\n",
    "df.plot(x='cores', y= ['flow_time', 'trans_time', 'wall_time'], ax=ax, figsize=(8, 8), logx=True)\n",
    "ax.set_ylabel('Time (sec)')\n",
    "ax.set_title('scaling test for model 1000x1000x5 m')"
   ]
  },
  {
   "cell_type": "markdown",
   "metadata": {},
   "source": [
    "## scaling test for 200x200x2_head_bc_new_iniH model"
   ]
  },
  {
   "cell_type": "markdown",
   "metadata": {},
   "source": [
    "`MAX_STEPS 100` for testing model of 200x200x2m with 9 million grids\n",
    "\n",
    "|dof per core|# of cores|Flow solution time (sec)|Transport solution time (sec)|Wall clock time (sec)|Total Wall clock time (hr)$^*$|\n",
    "|---|----------|------------------|-----------------------|---------------|---|\n",
    "|70312|128|841|37.1|1260|\n",
    "|35156|256|359.4|22.4|733.6|\n",
    "|17578|512|220.3|12|585.4|\n",
    "|8789|1024|86.9|6|445|\n",
    "|**4394**|**2048**|**47.8**|**2.5**|**520**|**67.25**|\n",
    "|2197|4096|42.1|1.6|465|\n",
    "\n",
    "*total wall clock time is the time required to finish one simulation"
   ]
  },
  {
   "cell_type": "code",
   "execution_count": 24,
   "metadata": {
    "ExecuteTime": {
     "end_time": "2018-07-13T23:36:07.847105Z",
     "start_time": "2018-07-13T23:36:07.640071Z"
    }
   },
   "outputs": [
    {
     "data": {
      "text/plain": [
       "<matplotlib.text.Text at 0x11de35d30>"
      ]
     },
     "execution_count": 24,
     "metadata": {},
     "output_type": "execute_result"
    },
    {
     "data": {
      "image/png": "[encoded data removed]",
      "text/plain": [
       "<matplotlib.figure.Figure at 0x11bde1f28>"
      ]
     },
     "metadata": {},
     "output_type": "display_data"
    }
   ],
   "source": [
    "d = {'cores' : [ 128, 256, 512, 1024, 2048, 4096],\n",
    "    'flow_time': [841, 359, 220, 86.9, 47, 42],\n",
    "    'trans_time': [37.1, 22.4, 12, 6, 2.5, 1.6],\n",
    "    'wall_time' : [1260, 733, 585, 445, 520, 465]}\n",
    "df = pd.DataFrame(data= d)\n",
    "\n",
    "matplotlib.style.use('ggplot')\n",
    "\n",
    "fig, ax = plt.subplots(1, 1)\n",
    "df.plot(x='cores', y= ['flow_time', 'trans_time', 'wall_time'], ax=ax, figsize=(8, 8), logx=True)\n",
    "ax.set_ylabel('Time (sec)')\n",
    "ax.set_title('scaling test for model 200x200x2 m')"
   ]
  },
  {
   "cell_type": "markdown",
   "metadata": {},
   "source": [
    "## scaling test for 100x100x2 m"
   ]
  },
  {
   "cell_type": "markdown",
   "metadata": {
    "ExecuteTime": {
     "end_time": "2018-07-20T23:51:04.957959Z",
     "start_time": "2018-07-20T23:51:04.954010Z"
    }
   },
   "source": [
    "`MAX_STEPS 100` for testing model of 100x100x2 m with 18 million grids\n",
    "\n",
    "|dof per core|# of cores|Flow solution time (sec)|Transport solution time (sec)|Wall clock time (sec)|Total wall time (hr)|\n",
    "|---|----------|------------------|-----------------------|---------------|---|\n",
    "|17578|1024|206.2|21.2|668|\n",
    "|8789|2048|104.1|11.2|474.3|\n",
    "|**4394**|**4096**|**59.4**|**4.6**|**450.5**|**109.2**|\n",
    "|2197|8192|68.9|3.6|548.1|"
   ]
  },
  {
   "cell_type": "markdown",
   "metadata": {},
   "source": [
    "## scaling test for 100x100x1 m\n"
   ]
  },
  {
   "cell_type": "markdown",
   "metadata": {},
   "source": [
    "`MAX_STEPS 100` for testing model of 100x100x1 m with 36 million grids\n",
    "\n",
    "|dof per core|# of cores|Flow solution time (sec)|Transport solution time (sec)|Wall clock time (sec)|\n",
    "|---|----------|------------------|-----------------------|---------------|\n",
    "|35156|1024|729|43|1130|\n",
    "|17578|2048| 315 | 21 | 700 |\n",
    "|8789|4096| 189 | 10 | 645 |\n",
    "|4394|8192|115|5.6|649|"
   ]
  },
  {
   "cell_type": "markdown",
   "metadata": {},
   "source": [
    "## scaling test for 100x100x0.5 m "
   ]
  },
  {
   "cell_type": "markdown",
   "metadata": {},
   "source": [
    "`MAX_STEPS 100` for testing model of 100x100x0.5 m with 72 million grids\n",
    "\n",
    "|dof per core|# of cores|Flow solution time (sec)|Transport solution time (sec)|Wall clock time (sec)|\n",
    "|---|----------|------------------|-----------------------|---------------|\n",
    "|35156|2048|765.7|42.7|1228.2|\n",
    "|17578|4096|327.1|19.8|787.5|\n",
    "|8789|8192|189.7|10.2|739|\n",
    "|4394|16384|"
   ]
  },
  {
   "cell_type": "markdown",
   "metadata": {},
   "source": [
    "# job logs"
   ]
  },
  {
   "cell_type": "markdown",
   "metadata": {},
   "source": [
    "|Completed jobs|Description|Total run time (hr)\n",
    "|:---|:---:|:---:|\n",
    "|HFR_model_200x200x2_6h_bc|200x200x2-m grid, **6h-river-bc**, no-flow-inland-bc, 200-m-thick|\n",
    "HFR_model_200x200x2_1w_bc|200x200x2-m grid, **1w-river-bc**, no-flow-inland-bc, 200-m-thick\n",
    "HFR_model_200x200x5_6h_1w_bc|200x200x5-m grid, **both 6h- and 1w-river-bc**, no-flow-inland-bc, 200-m-thick\n",
    "HFR_model_100x100x5_6h_bc|100x100x5-m grid, 6h-river-bc, no-flow-inland-bc, 200-m-thick\n",
    "HFR_model_1000x1000x5_6h_bc|1000x1000x5-m grid, 6h-river-bc, no-flow-inland-bc, 200-m-thick\n",
    "HFR_model_200x200x2_head_bc_new_iniH|200x200x2-m grid, 6h-river-bc, **flow-inland-bc**, 200-m-thick\n",
    "HFR_model_100x100x2|100x100x2-m grid, 6h-river-bc, no-flow-inland-bc, **100-m-thick**, iniH from MASS1 pts\n",
    "HFR_model_200x200x2_6h_bc_new_iniH|iniH from MASS1 pts\n",
    "HFR_model_100x100x2_new_iniH|**iniH from 200m-model output**, has basalt unit, 6h-river-bc\n",
    "HFR_model_100x100x2_1w_bc|iniH from 200m-model output, has basalt unit, 1w-river-bc\n",
    "HFR_model_100x100x2_cyclic|use restart file from **HFR_model_100x100x2_new_iniH** and run it for another 8 yrs| 105 \n",
    "HFR_model_100x100x2_1w_cyclic|use restart file from **HFR_model_100x100x2_1w_bc** and run it for another 8 yrs\n",
    "\n",
    "\\* indicates model in progress"
   ]
  },
  {
   "cell_type": "code",
   "execution_count": null,
   "metadata": {},
   "outputs": [],
   "source": []
  }
 ],
 "metadata": {
  "kernelspec": {
   "display_name": "Python 3",
   "language": "python",
   "name": "python3"
  },
  "language_info": {
   "codemirror_mode": {
    "name": "ipython",
    "version": 3
   },
   "file_extension": ".py",
   "mimetype": "text/x-python",
   "name": "python",
   "nbconvert_exporter": "python",
   "pygments_lexer": "ipython3",
   "version": "3.7.4"
  },
  "toc": {
   "base_numbering": 1,
   "nav_menu": {},
   "number_sections": true,
   "sideBar": true,
   "skip_h1_title": false,
   "title_cell": "Table of Contents",
   "title_sidebar": "Contents",
   "toc_cell": false,
   "toc_position": {},
   "toc_section_display": true,
   "toc_window_display": true
  },
  "varInspector": {
   "cols": {
    "lenName": 16,
    "lenType": 16,
    "lenVar": 40
   },
   "kernels_config": {
    "python": {
     "delete_cmd_postfix": "",
     "delete_cmd_prefix": "del ",
     "library": "var_list.py",
     "varRefreshCmd": "print(var_dic_list())"
    },
    "r": {
     "delete_cmd_postfix": ") ",
     "delete_cmd_prefix": "rm(",
     "library": "var_list.r",
     "varRefreshCmd": "cat(var_dic_list()) "
    }
   },
   "types_to_exclude": [
    "module",
    "function",
    "builtin_function_or_method",
    "instance",
    "_Feature"
   ],
   "window_display": false
  }
 },
 "nbformat": 4,
 "nbformat_minor": 4
}
